{
  "nbformat": 4,
  "nbformat_minor": 0,
  "metadata": {
    "colab": {
      "name": "Copy of LSTM_easy_example.ipynb",
      "provenance": [],
      "include_colab_link": true
    },
    "kernelspec": {
      "name": "python3",
      "display_name": "Python 3"
    },
    "language_info": {
      "name": "python"
    }
  },
  "cells": [
    {
      "cell_type": "markdown",
      "metadata": {
        "id": "view-in-github",
        "colab_type": "text"
      },
      "source": [
        "<a href=\"https://colab.research.google.com/github/NicoleRichards1998/ray/blob/master/Copy_of_LSTM_easy_example.ipynb\" target=\"_parent\"><img src=\"https://colab.research.google.com/assets/colab-badge.svg\" alt=\"Open In Colab\"/></a>"
      ]
    },
    {
      "cell_type": "code",
      "source": [
        "!pip uninstall -y pyarrow\n",
        "!pip uninstall -y ray # clean removal of previous install, otherwise version number may cause pip not to upgrade"
      ],
      "metadata": {
        "colab": {
          "base_uri": "https://localhost:8080/"
        },
        "id": "V7KaVgkGWmiv",
        "outputId": "1c3f4df0-64fe-40b0-b4fb-a061eae301b8"
      },
      "execution_count": 1,
      "outputs": [
        {
          "output_type": "stream",
          "name": "stdout",
          "text": [
            "Found existing installation: pyarrow 6.0.1\n",
            "Uninstalling pyarrow-6.0.1:\n",
            "  Successfully uninstalled pyarrow-6.0.1\n",
            "\u001b[33mWARNING: Skipping ray as it is not installed.\u001b[0m\n"
          ]
        }
      ]
    },
    {
      "cell_type": "code",
      "source": [
        "!python -m pip install --upgrade pip"
      ],
      "metadata": {
        "colab": {
          "base_uri": "https://localhost:8080/"
        },
        "id": "GDniAMJtCBBP",
        "outputId": "5193bec9-f394-4c50-aa4d-31539f395b3a"
      },
      "execution_count": null,
      "outputs": [
        {
          "output_type": "stream",
          "name": "stdout",
          "text": [
            "Requirement already satisfied: pip in /usr/local/lib/python3.7/dist-packages (21.1.3)\n",
            "Collecting pip\n",
            "  Downloading pip-22.0.4-py3-none-any.whl (2.1 MB)\n",
            "\u001b[K     |████████████████████████████████| 2.1 MB 5.1 MB/s \n",
            "\u001b[?25hInstalling collected packages: pip\n",
            "  Attempting uninstall: pip\n",
            "    Found existing installation: pip 21.1.3\n",
            "    Uninstalling pip-21.1.3:\n",
            "      Successfully uninstalled pip-21.1.3\n",
            "Successfully installed pip-22.0.4\n"
          ]
        }
      ]
    },
    {
      "cell_type": "code",
      "source": [
        "from google.colab import drive\n",
        "drive.mount('/content/gdrive')\n",
        "! ls\n",
        "%cd gdrive/My Drive/project_folder\n",
        "! git clone https://github.com/NicoleRichards1998/ray.git\n",
        "! git pull"
      ],
      "metadata": {
        "colab": {
          "base_uri": "https://localhost:8080/"
        },
        "id": "MsZ3LngKq1i8",
        "outputId": "485fde22-b173-490c-bed8-e742ebea9179"
      },
      "execution_count": 2,
      "outputs": [
        {
          "output_type": "stream",
          "name": "stdout",
          "text": [
            "Mounted at /content/gdrive\n",
            "gdrive\tsample_data\n",
            "/content/gdrive/My Drive/project_folder\n",
            "Cloning into 'ray'...\n",
            "remote: Enumerating objects: 184883, done.\u001b[K\n",
            "remote: Total 184883 (delta 0), reused 0 (delta 0), pack-reused 184883\u001b[K\n",
            "Receiving objects: 100% (184883/184883), 169.15 MiB | 7.63 MiB/s, done.\n",
            "Resolving deltas: 100% (138277/138277), done.\n",
            "Checking out files: 100% (4784/4784), done.\n",
            "fatal: not a git repository (or any parent up to mount point /content)\n",
            "Stopping at filesystem boundary (GIT_DISCOVERY_ACROSS_FILESYSTEM not set).\n"
          ]
        }
      ]
    },
    {
      "cell_type": "code",
      "source": [
        "! git init"
      ],
      "metadata": {
        "colab": {
          "base_uri": "https://localhost:8080/"
        },
        "id": "OhgpJt0bw6yR",
        "outputId": "efaa941f-f688-48ba-fe7a-1820410dae12"
      },
      "execution_count": 5,
      "outputs": [
        {
          "output_type": "stream",
          "name": "stdout",
          "text": [
            "Initialized empty Git repository in /content/gdrive/MyDrive/project_folder/.git/\n"
          ]
        }
      ]
    },
    {
      "cell_type": "code",
      "source": [
        "! git pull https://github.com/NicoleRichards1998/ray.git"
      ],
      "metadata": {
        "colab": {
          "base_uri": "https://localhost:8080/"
        },
        "id": "a5JHE9dOwjuA",
        "outputId": "ad29c8d8-ffd2-47e2-de1a-82c249a197c1"
      },
      "execution_count": 6,
      "outputs": [
        {
          "output_type": "stream",
          "name": "stdout",
          "text": [
            "remote: Enumerating objects: 175130, done.\u001b[K\n",
            "remote: Total 175130 (delta 0), reused 0 (delta 0), pack-reused 175130\u001b[K\n",
            "Receiving objects: 100% (175130/175130), 165.35 MiB | 8.82 MiB/s, done.\n",
            "Resolving deltas: 100% (130968/130968), done.\n",
            "From https://github.com/NicoleRichards1998/ray\n",
            " * branch                HEAD       -> FETCH_HEAD\n",
            "Checking out files: 100% (4784/4784), done.\n"
          ]
        }
      ]
    },
    {
      "cell_type": "code",
      "source": [
        "!pip install ray"
      ],
      "metadata": {
        "colab": {
          "base_uri": "https://localhost:8080/",
          "height": 903
        },
        "id": "4rTk0R-9tCEc",
        "outputId": "743ca93d-a677-49c4-9efe-29fd6cecfb4a"
      },
      "execution_count": 7,
      "outputs": [
        {
          "output_type": "stream",
          "name": "stdout",
          "text": [
            "Collecting ray\n",
            "  Downloading ray-1.12.0-cp37-cp37m-manylinux2014_x86_64.whl (53.2 MB)\n",
            "\u001b[K     |████████████████████████████████| 53.2 MB 236 kB/s \n",
            "\u001b[?25hRequirement already satisfied: msgpack<2.0.0,>=1.0.0 in /usr/local/lib/python3.7/dist-packages (from ray) (1.0.3)\n",
            "Collecting grpcio<=1.43.0,>=1.28.1\n",
            "  Downloading grpcio-1.43.0-cp37-cp37m-manylinux_2_17_x86_64.manylinux2014_x86_64.whl (4.1 MB)\n",
            "\u001b[K     |████████████████████████████████| 4.1 MB 36.8 MB/s \n",
            "\u001b[?25hRequirement already satisfied: pyyaml in /usr/local/lib/python3.7/dist-packages (from ray) (3.13)\n",
            "Requirement already satisfied: filelock in /usr/local/lib/python3.7/dist-packages (from ray) (3.6.0)\n",
            "Collecting frozenlist\n",
            "  Downloading frozenlist-1.3.0-cp37-cp37m-manylinux_2_5_x86_64.manylinux1_x86_64.manylinux_2_17_x86_64.manylinux2014_x86_64.whl (144 kB)\n",
            "\u001b[K     |████████████████████████████████| 144 kB 78.1 MB/s \n",
            "\u001b[?25hRequirement already satisfied: click>=7.0 in /usr/local/lib/python3.7/dist-packages (from ray) (7.1.2)\n",
            "Requirement already satisfied: attrs in /usr/local/lib/python3.7/dist-packages (from ray) (21.4.0)\n",
            "Collecting virtualenv\n",
            "  Downloading virtualenv-20.14.1-py2.py3-none-any.whl (8.8 MB)\n",
            "\u001b[K     |████████████████████████████████| 8.8 MB 71.4 MB/s \n",
            "\u001b[?25hRequirement already satisfied: jsonschema in /usr/local/lib/python3.7/dist-packages (from ray) (4.3.3)\n",
            "Requirement already satisfied: protobuf>=3.15.3 in /usr/local/lib/python3.7/dist-packages (from ray) (3.17.3)\n",
            "Requirement already satisfied: numpy>=1.16 in /usr/local/lib/python3.7/dist-packages (from ray) (1.21.6)\n",
            "Collecting aiosignal\n",
            "  Downloading aiosignal-1.2.0-py3-none-any.whl (8.2 kB)\n",
            "Requirement already satisfied: requests in /usr/local/lib/python3.7/dist-packages (from ray) (2.23.0)\n",
            "Requirement already satisfied: six>=1.5.2 in /usr/local/lib/python3.7/dist-packages (from grpcio<=1.43.0,>=1.28.1->ray) (1.15.0)\n",
            "Requirement already satisfied: typing-extensions in /usr/local/lib/python3.7/dist-packages (from jsonschema->ray) (4.2.0)\n",
            "Requirement already satisfied: pyrsistent!=0.17.0,!=0.17.1,!=0.17.2,>=0.14.0 in /usr/local/lib/python3.7/dist-packages (from jsonschema->ray) (0.18.1)\n",
            "Requirement already satisfied: importlib-metadata in /usr/local/lib/python3.7/dist-packages (from jsonschema->ray) (4.11.3)\n",
            "Requirement already satisfied: importlib-resources>=1.4.0 in /usr/local/lib/python3.7/dist-packages (from jsonschema->ray) (5.7.1)\n",
            "Requirement already satisfied: zipp>=3.1.0 in /usr/local/lib/python3.7/dist-packages (from importlib-resources>=1.4.0->jsonschema->ray) (3.8.0)\n",
            "Requirement already satisfied: urllib3!=1.25.0,!=1.25.1,<1.26,>=1.21.1 in /usr/local/lib/python3.7/dist-packages (from requests->ray) (1.24.3)\n",
            "Requirement already satisfied: chardet<4,>=3.0.2 in /usr/local/lib/python3.7/dist-packages (from requests->ray) (3.0.4)\n",
            "Requirement already satisfied: certifi>=2017.4.17 in /usr/local/lib/python3.7/dist-packages (from requests->ray) (2021.10.8)\n",
            "Requirement already satisfied: idna<3,>=2.5 in /usr/local/lib/python3.7/dist-packages (from requests->ray) (2.10)\n",
            "Collecting distlib<1,>=0.3.1\n",
            "  Downloading distlib-0.3.4-py2.py3-none-any.whl (461 kB)\n",
            "\u001b[K     |████████████████████████████████| 461 kB 71.4 MB/s \n",
            "\u001b[?25hCollecting platformdirs<3,>=2\n",
            "  Downloading platformdirs-2.5.2-py3-none-any.whl (14 kB)\n",
            "Installing collected packages: platformdirs, frozenlist, distlib, virtualenv, grpcio, aiosignal, ray\n",
            "  Attempting uninstall: grpcio\n",
            "    Found existing installation: grpcio 1.44.0\n",
            "    Uninstalling grpcio-1.44.0:\n",
            "      Successfully uninstalled grpcio-1.44.0\n",
            "\u001b[31mERROR: pip's dependency resolver does not currently take into account all the packages that are installed. This behaviour is the source of the following dependency conflicts.\n",
            "tensorflow 2.8.0 requires tf-estimator-nightly==2.8.0.dev2021122109, which is not installed.\u001b[0m\n",
            "Successfully installed aiosignal-1.2.0 distlib-0.3.4 frozenlist-1.3.0 grpcio-1.43.0 platformdirs-2.5.2 ray-1.12.0 virtualenv-20.14.1\n"
          ]
        },
        {
          "output_type": "display_data",
          "data": {
            "application/vnd.colab-display-data+json": {
              "pip_warning": {
                "packages": [
                  "ray"
                ]
              }
            }
          },
          "metadata": {}
        }
      ]
    },
    {
      "cell_type": "code",
      "source": [
        "!pip install tf-estimator-nightly==2.8.0.dev2021122109"
      ],
      "metadata": {
        "colab": {
          "base_uri": "https://localhost:8080/"
        },
        "id": "qdoDfYq0KXAN",
        "outputId": "29dae1e9-25f2-4df1-d8b8-50ad6849be31"
      },
      "execution_count": null,
      "outputs": [
        {
          "output_type": "stream",
          "name": "stdout",
          "text": [
            "Collecting tf-estimator-nightly==2.8.0.dev2021122109\n",
            "  Downloading tf_estimator_nightly-2.8.0.dev2021122109-py2.py3-none-any.whl (462 kB)\n",
            "\u001b[?25l\r\u001b[K     |▊                               | 10 kB 24.8 MB/s eta 0:00:01\r\u001b[K     |█▍                              | 20 kB 29.8 MB/s eta 0:00:01\r\u001b[K     |██▏                             | 30 kB 35.7 MB/s eta 0:00:01\r\u001b[K     |██▉                             | 40 kB 35.8 MB/s eta 0:00:01\r\u001b[K     |███▌                            | 51 kB 23.4 MB/s eta 0:00:01\r\u001b[K     |████▎                           | 61 kB 25.9 MB/s eta 0:00:01\r\u001b[K     |█████                           | 71 kB 26.1 MB/s eta 0:00:01\r\u001b[K     |█████▊                          | 81 kB 25.8 MB/s eta 0:00:01\r\u001b[K     |██████▍                         | 92 kB 27.9 MB/s eta 0:00:01\r\u001b[K     |███████                         | 102 kB 29.6 MB/s eta 0:00:01\r\u001b[K     |███████▉                        | 112 kB 29.6 MB/s eta 0:00:01\r\u001b[K     |████████▌                       | 122 kB 29.6 MB/s eta 0:00:01\r\u001b[K     |█████████▏                      | 133 kB 29.6 MB/s eta 0:00:01\r\u001b[K     |██████████                      | 143 kB 29.6 MB/s eta 0:00:01\r\u001b[K     |██████████▋                     | 153 kB 29.6 MB/s eta 0:00:01\r\u001b[K     |███████████▍                    | 163 kB 29.6 MB/s eta 0:00:01\r\u001b[K     |████████████                    | 174 kB 29.6 MB/s eta 0:00:01\r\u001b[K     |████████████▊                   | 184 kB 29.6 MB/s eta 0:00:01\r\u001b[K     |█████████████▌                  | 194 kB 29.6 MB/s eta 0:00:01\r\u001b[K     |██████████████▏                 | 204 kB 29.6 MB/s eta 0:00:01\r\u001b[K     |██████████████▉                 | 215 kB 29.6 MB/s eta 0:00:01\r\u001b[K     |███████████████▋                | 225 kB 29.6 MB/s eta 0:00:01\r\u001b[K     |████████████████▎               | 235 kB 29.6 MB/s eta 0:00:01\r\u001b[K     |█████████████████               | 245 kB 29.6 MB/s eta 0:00:01\r\u001b[K     |█████████████████▊              | 256 kB 29.6 MB/s eta 0:00:01\r\u001b[K     |██████████████████▍             | 266 kB 29.6 MB/s eta 0:00:01\r\u001b[K     |███████████████████▏            | 276 kB 29.6 MB/s eta 0:00:01\r\u001b[K     |███████████████████▉            | 286 kB 29.6 MB/s eta 0:00:01\r\u001b[K     |████████████████████▌           | 296 kB 29.6 MB/s eta 0:00:01\r\u001b[K     |█████████████████████▎          | 307 kB 29.6 MB/s eta 0:00:01\r\u001b[K     |██████████████████████          | 317 kB 29.6 MB/s eta 0:00:01\r\u001b[K     |██████████████████████▊         | 327 kB 29.6 MB/s eta 0:00:01\r\u001b[K     |███████████████████████▍        | 337 kB 29.6 MB/s eta 0:00:01\r\u001b[K     |████████████████████████        | 348 kB 29.6 MB/s eta 0:00:01\r\u001b[K     |████████████████████████▉       | 358 kB 29.6 MB/s eta 0:00:01\r\u001b[K     |█████████████████████████▌      | 368 kB 29.6 MB/s eta 0:00:01\r\u001b[K     |██████████████████████████▏     | 378 kB 29.6 MB/s eta 0:00:01\r\u001b[K     |███████████████████████████     | 389 kB 29.6 MB/s eta 0:00:01\r\u001b[K     |███████████████████████████▋    | 399 kB 29.6 MB/s eta 0:00:01\r\u001b[K     |████████████████████████████▍   | 409 kB 29.6 MB/s eta 0:00:01\r\u001b[K     |█████████████████████████████   | 419 kB 29.6 MB/s eta 0:00:01\r\u001b[K     |█████████████████████████████▊  | 430 kB 29.6 MB/s eta 0:00:01\r\u001b[K     |██████████████████████████████▌ | 440 kB 29.6 MB/s eta 0:00:01\r\u001b[K     |███████████████████████████████▏| 450 kB 29.6 MB/s eta 0:00:01\r\u001b[K     |███████████████████████████████▉| 460 kB 29.6 MB/s eta 0:00:01\r\u001b[K     |████████████████████████████████| 462 kB 29.6 MB/s \n",
            "\u001b[?25hInstalling collected packages: tf-estimator-nightly\n",
            "Successfully installed tf-estimator-nightly-2.8.0.dev2021122109\n"
          ]
        }
      ]
    },
    {
      "cell_type": "code",
      "source": [
        "!pip install -U https://s3-us-west-2.amazonaws.com/ray-wheels/latest/ray-2.0.0.dev0-cp37-cp37m-manylinux2014_x86_64.whl # minimal install"
      ],
      "metadata": {
        "colab": {
          "base_uri": "https://localhost:8080/"
        },
        "id": "5I06OltCJTty",
        "outputId": "43232eeb-f5c7-4d6a-8c56-a941958ea77a"
      },
      "execution_count": null,
      "outputs": [
        {
          "output_type": "stream",
          "name": "stdout",
          "text": [
            "Collecting ray==2.0.0.dev0\n",
            "  Downloading https://s3-us-west-2.amazonaws.com/ray-wheels/latest/ray-2.0.0.dev0-cp37-cp37m-manylinux2014_x86_64.whl (53.6 MB)\n",
            "\u001b[K     |████████████████████████████████| 53.6 MB 1.3 MB/s \n",
            "\u001b[?25hRequirement already satisfied: jsonschema in /usr/local/lib/python3.7/dist-packages (from ray==2.0.0.dev0) (4.3.3)\n",
            "Collecting aiosignal\n",
            "  Downloading aiosignal-1.2.0-py3-none-any.whl (8.2 kB)\n",
            "Requirement already satisfied: numpy>=1.16 in /usr/local/lib/python3.7/dist-packages (from ray==2.0.0.dev0) (1.21.6)\n",
            "Requirement already satisfied: pyyaml in /usr/local/lib/python3.7/dist-packages (from ray==2.0.0.dev0) (3.13)\n",
            "Requirement already satisfied: requests in /usr/local/lib/python3.7/dist-packages (from ray==2.0.0.dev0) (2.23.0)\n",
            "Requirement already satisfied: attrs in /usr/local/lib/python3.7/dist-packages (from ray==2.0.0.dev0) (21.4.0)\n",
            "Requirement already satisfied: click<=8.0.4,>=7.0 in /usr/local/lib/python3.7/dist-packages (from ray==2.0.0.dev0) (7.1.2)\n",
            "Collecting grpcio<=1.43.0,>=1.28.1\n",
            "  Downloading grpcio-1.43.0-cp37-cp37m-manylinux_2_17_x86_64.manylinux2014_x86_64.whl (4.1 MB)\n",
            "\u001b[K     |████████████████████████████████| 4.1 MB 25.0 MB/s \n",
            "\u001b[?25hCollecting virtualenv\n",
            "  Downloading virtualenv-20.14.1-py2.py3-none-any.whl (8.8 MB)\n",
            "\u001b[K     |████████████████████████████████| 8.8 MB 40.8 MB/s \n",
            "\u001b[?25hRequirement already satisfied: msgpack<2.0.0,>=1.0.0 in /usr/local/lib/python3.7/dist-packages (from ray==2.0.0.dev0) (1.0.3)\n",
            "Collecting frozenlist\n",
            "  Downloading frozenlist-1.3.0-cp37-cp37m-manylinux_2_5_x86_64.manylinux1_x86_64.manylinux_2_17_x86_64.manylinux2014_x86_64.whl (144 kB)\n",
            "\u001b[K     |████████████████████████████████| 144 kB 58.0 MB/s \n",
            "\u001b[?25hRequirement already satisfied: protobuf>=3.15.3 in /usr/local/lib/python3.7/dist-packages (from ray==2.0.0.dev0) (3.17.3)\n",
            "Requirement already satisfied: filelock in /usr/local/lib/python3.7/dist-packages (from ray==2.0.0.dev0) (3.6.0)\n",
            "Requirement already satisfied: six>=1.5.2 in /usr/local/lib/python3.7/dist-packages (from grpcio<=1.43.0,>=1.28.1->ray==2.0.0.dev0) (1.15.0)\n",
            "Requirement already satisfied: importlib-metadata in /usr/local/lib/python3.7/dist-packages (from jsonschema->ray==2.0.0.dev0) (4.11.3)\n",
            "Requirement already satisfied: pyrsistent!=0.17.0,!=0.17.1,!=0.17.2,>=0.14.0 in /usr/local/lib/python3.7/dist-packages (from jsonschema->ray==2.0.0.dev0) (0.18.1)\n",
            "Requirement already satisfied: typing-extensions in /usr/local/lib/python3.7/dist-packages (from jsonschema->ray==2.0.0.dev0) (4.2.0)\n",
            "Requirement already satisfied: importlib-resources>=1.4.0 in /usr/local/lib/python3.7/dist-packages (from jsonschema->ray==2.0.0.dev0) (5.7.1)\n",
            "Requirement already satisfied: zipp>=3.1.0 in /usr/local/lib/python3.7/dist-packages (from importlib-resources>=1.4.0->jsonschema->ray==2.0.0.dev0) (3.8.0)\n",
            "Requirement already satisfied: idna<3,>=2.5 in /usr/local/lib/python3.7/dist-packages (from requests->ray==2.0.0.dev0) (2.10)\n",
            "Requirement already satisfied: chardet<4,>=3.0.2 in /usr/local/lib/python3.7/dist-packages (from requests->ray==2.0.0.dev0) (3.0.4)\n",
            "Requirement already satisfied: certifi>=2017.4.17 in /usr/local/lib/python3.7/dist-packages (from requests->ray==2.0.0.dev0) (2021.10.8)\n",
            "Requirement already satisfied: urllib3!=1.25.0,!=1.25.1,<1.26,>=1.21.1 in /usr/local/lib/python3.7/dist-packages (from requests->ray==2.0.0.dev0) (1.24.3)\n",
            "Collecting platformdirs<3,>=2\n",
            "  Downloading platformdirs-2.5.2-py3-none-any.whl (14 kB)\n",
            "Collecting distlib<1,>=0.3.1\n",
            "  Downloading distlib-0.3.4-py2.py3-none-any.whl (461 kB)\n",
            "\u001b[K     |████████████████████████████████| 461 kB 59.0 MB/s \n",
            "\u001b[?25hInstalling collected packages: platformdirs, frozenlist, distlib, virtualenv, grpcio, aiosignal, ray\n",
            "  Attempting uninstall: grpcio\n",
            "    Found existing installation: grpcio 1.44.0\n",
            "    Uninstalling grpcio-1.44.0:\n",
            "      Successfully uninstalled grpcio-1.44.0\n",
            "Successfully installed aiosignal-1.2.0 distlib-0.3.4 frozenlist-1.3.0 grpcio-1.43.0 platformdirs-2.5.2 ray-2.0.0.dev0 virtualenv-20.14.1\n"
          ]
        }
      ]
    },
    {
      "cell_type": "code",
      "source": [
        "!pip install tensorboardX"
      ],
      "metadata": {
        "colab": {
          "base_uri": "https://localhost:8080/"
        },
        "id": "6fP-H1a7Cz8x",
        "outputId": "9738a95f-edcb-4c2a-94d0-161552deb6ad"
      },
      "execution_count": null,
      "outputs": [
        {
          "output_type": "stream",
          "name": "stdout",
          "text": [
            "Collecting tensorboardX\n",
            "  Downloading tensorboardX-2.5-py2.py3-none-any.whl (125 kB)\n",
            "\u001b[?25l     \u001b[90m━━━━━━━━━━━━━━━━━━━━━━━━━━━━━━━━━━━━━━━━\u001b[0m \u001b[32m0.0/125.3 KB\u001b[0m \u001b[31m?\u001b[0m eta \u001b[36m-:--:--\u001b[0m\r\u001b[2K     \u001b[90m━━━━━━━━━━━━━━━━━━━━━━━━━━━━━━━━━━━━━━\u001b[0m \u001b[32m125.3/125.3 KB\u001b[0m \u001b[31m10.3 MB/s\u001b[0m eta \u001b[36m0:00:00\u001b[0m\n",
            "\u001b[?25hRequirement already satisfied: protobuf>=3.8.0 in /usr/local/lib/python3.7/dist-packages (from tensorboardX) (3.17.3)\n",
            "Requirement already satisfied: six in /usr/local/lib/python3.7/dist-packages (from tensorboardX) (1.15.0)\n",
            "Requirement already satisfied: numpy in /usr/local/lib/python3.7/dist-packages (from tensorboardX) (1.21.5)\n",
            "Installing collected packages: tensorboardX\n",
            "Successfully installed tensorboardX-2.5\n",
            "\u001b[33mWARNING: Running pip as the 'root' user can result in broken permissions and conflicting behaviour with the system package manager. It is recommended to use a virtual environment instead: https://pip.pypa.io/warnings/venv\u001b[0m\u001b[33m\n",
            "\u001b[0m"
          ]
        }
      ]
    },
    {
      "cell_type": "code",
      "source": [
        "!pip install lz4"
      ],
      "metadata": {
        "colab": {
          "base_uri": "https://localhost:8080/"
        },
        "id": "Q6_Zqg-jJBgN",
        "outputId": "582a2d04-805b-40b3-88df-62743889a8e9"
      },
      "execution_count": null,
      "outputs": [
        {
          "output_type": "stream",
          "name": "stdout",
          "text": [
            "Collecting lz4\n",
            "  Downloading lz4-4.0.0-cp37-cp37m-manylinux_2_17_x86_64.manylinux2014_x86_64.whl (1.2 MB)\n",
            "\u001b[?25l\r\u001b[K     |▎                               | 10 kB 19.0 MB/s eta 0:00:01\r\u001b[K     |▌                               | 20 kB 25.4 MB/s eta 0:00:01\r\u001b[K     |▉                               | 30 kB 30.3 MB/s eta 0:00:01\r\u001b[K     |█                               | 40 kB 25.6 MB/s eta 0:00:01\r\u001b[K     |█▍                              | 51 kB 21.0 MB/s eta 0:00:01\r\u001b[K     |█▋                              | 61 kB 23.0 MB/s eta 0:00:01\r\u001b[K     |█▉                              | 71 kB 23.9 MB/s eta 0:00:01\r\u001b[K     |██▏                             | 81 kB 25.3 MB/s eta 0:00:01\r\u001b[K     |██▍                             | 92 kB 27.5 MB/s eta 0:00:01\r\u001b[K     |██▊                             | 102 kB 24.1 MB/s eta 0:00:01\r\u001b[K     |███                             | 112 kB 24.1 MB/s eta 0:00:01\r\u001b[K     |███▏                            | 122 kB 24.1 MB/s eta 0:00:01\r\u001b[K     |███▌                            | 133 kB 24.1 MB/s eta 0:00:01\r\u001b[K     |███▊                            | 143 kB 24.1 MB/s eta 0:00:01\r\u001b[K     |████                            | 153 kB 24.1 MB/s eta 0:00:01\r\u001b[K     |████▎                           | 163 kB 24.1 MB/s eta 0:00:01\r\u001b[K     |████▋                           | 174 kB 24.1 MB/s eta 0:00:01\r\u001b[K     |████▉                           | 184 kB 24.1 MB/s eta 0:00:01\r\u001b[K     |█████                           | 194 kB 24.1 MB/s eta 0:00:01\r\u001b[K     |█████▍                          | 204 kB 24.1 MB/s eta 0:00:01\r\u001b[K     |█████▋                          | 215 kB 24.1 MB/s eta 0:00:01\r\u001b[K     |██████                          | 225 kB 24.1 MB/s eta 0:00:01\r\u001b[K     |██████▏                         | 235 kB 24.1 MB/s eta 0:00:01\r\u001b[K     |██████▍                         | 245 kB 24.1 MB/s eta 0:00:01\r\u001b[K     |██████▊                         | 256 kB 24.1 MB/s eta 0:00:01\r\u001b[K     |███████                         | 266 kB 24.1 MB/s eta 0:00:01\r\u001b[K     |███████▎                        | 276 kB 24.1 MB/s eta 0:00:01\r\u001b[K     |███████▌                        | 286 kB 24.1 MB/s eta 0:00:01\r\u001b[K     |███████▊                        | 296 kB 24.1 MB/s eta 0:00:01\r\u001b[K     |████████                        | 307 kB 24.1 MB/s eta 0:00:01\r\u001b[K     |████████▎                       | 317 kB 24.1 MB/s eta 0:00:01\r\u001b[K     |████████▋                       | 327 kB 24.1 MB/s eta 0:00:01\r\u001b[K     |████████▉                       | 337 kB 24.1 MB/s eta 0:00:01\r\u001b[K     |█████████▏                      | 348 kB 24.1 MB/s eta 0:00:01\r\u001b[K     |█████████▍                      | 358 kB 24.1 MB/s eta 0:00:01\r\u001b[K     |█████████▋                      | 368 kB 24.1 MB/s eta 0:00:01\r\u001b[K     |██████████                      | 378 kB 24.1 MB/s eta 0:00:01\r\u001b[K     |██████████▏                     | 389 kB 24.1 MB/s eta 0:00:01\r\u001b[K     |██████████▌                     | 399 kB 24.1 MB/s eta 0:00:01\r\u001b[K     |██████████▊                     | 409 kB 24.1 MB/s eta 0:00:01\r\u001b[K     |███████████                     | 419 kB 24.1 MB/s eta 0:00:01\r\u001b[K     |███████████▎                    | 430 kB 24.1 MB/s eta 0:00:01\r\u001b[K     |███████████▌                    | 440 kB 24.1 MB/s eta 0:00:01\r\u001b[K     |███████████▉                    | 450 kB 24.1 MB/s eta 0:00:01\r\u001b[K     |████████████                    | 460 kB 24.1 MB/s eta 0:00:01\r\u001b[K     |████████████▎                   | 471 kB 24.1 MB/s eta 0:00:01\r\u001b[K     |████████████▋                   | 481 kB 24.1 MB/s eta 0:00:01\r\u001b[K     |████████████▉                   | 491 kB 24.1 MB/s eta 0:00:01\r\u001b[K     |█████████████▏                  | 501 kB 24.1 MB/s eta 0:00:01\r\u001b[K     |█████████████▍                  | 512 kB 24.1 MB/s eta 0:00:01\r\u001b[K     |█████████████▊                  | 522 kB 24.1 MB/s eta 0:00:01\r\u001b[K     |██████████████                  | 532 kB 24.1 MB/s eta 0:00:01\r\u001b[K     |██████████████▏                 | 542 kB 24.1 MB/s eta 0:00:01\r\u001b[K     |██████████████▌                 | 552 kB 24.1 MB/s eta 0:00:01\r\u001b[K     |██████████████▊                 | 563 kB 24.1 MB/s eta 0:00:01\r\u001b[K     |███████████████                 | 573 kB 24.1 MB/s eta 0:00:01\r\u001b[K     |███████████████▎                | 583 kB 24.1 MB/s eta 0:00:01\r\u001b[K     |███████████████▌                | 593 kB 24.1 MB/s eta 0:00:01\r\u001b[K     |███████████████▉                | 604 kB 24.1 MB/s eta 0:00:01\r\u001b[K     |████████████████                | 614 kB 24.1 MB/s eta 0:00:01\r\u001b[K     |████████████████▍               | 624 kB 24.1 MB/s eta 0:00:01\r\u001b[K     |████████████████▋               | 634 kB 24.1 MB/s eta 0:00:01\r\u001b[K     |████████████████▉               | 645 kB 24.1 MB/s eta 0:00:01\r\u001b[K     |█████████████████▏              | 655 kB 24.1 MB/s eta 0:00:01\r\u001b[K     |█████████████████▍              | 665 kB 24.1 MB/s eta 0:00:01\r\u001b[K     |█████████████████▊              | 675 kB 24.1 MB/s eta 0:00:01\r\u001b[K     |██████████████████              | 686 kB 24.1 MB/s eta 0:00:01\r\u001b[K     |██████████████████▎             | 696 kB 24.1 MB/s eta 0:00:01\r\u001b[K     |██████████████████▌             | 706 kB 24.1 MB/s eta 0:00:01\r\u001b[K     |██████████████████▊             | 716 kB 24.1 MB/s eta 0:00:01\r\u001b[K     |███████████████████             | 727 kB 24.1 MB/s eta 0:00:01\r\u001b[K     |███████████████████▎            | 737 kB 24.1 MB/s eta 0:00:01\r\u001b[K     |███████████████████▋            | 747 kB 24.1 MB/s eta 0:00:01\r\u001b[K     |███████████████████▉            | 757 kB 24.1 MB/s eta 0:00:01\r\u001b[K     |████████████████████            | 768 kB 24.1 MB/s eta 0:00:01\r\u001b[K     |████████████████████▍           | 778 kB 24.1 MB/s eta 0:00:01\r\u001b[K     |████████████████████▋           | 788 kB 24.1 MB/s eta 0:00:01\r\u001b[K     |█████████████████████           | 798 kB 24.1 MB/s eta 0:00:01\r\u001b[K     |█████████████████████▏          | 808 kB 24.1 MB/s eta 0:00:01\r\u001b[K     |█████████████████████▍          | 819 kB 24.1 MB/s eta 0:00:01\r\u001b[K     |█████████████████████▊          | 829 kB 24.1 MB/s eta 0:00:01\r\u001b[K     |██████████████████████          | 839 kB 24.1 MB/s eta 0:00:01\r\u001b[K     |██████████████████████▎         | 849 kB 24.1 MB/s eta 0:00:01\r\u001b[K     |██████████████████████▌         | 860 kB 24.1 MB/s eta 0:00:01\r\u001b[K     |██████████████████████▉         | 870 kB 24.1 MB/s eta 0:00:01\r\u001b[K     |███████████████████████         | 880 kB 24.1 MB/s eta 0:00:01\r\u001b[K     |███████████████████████▎        | 890 kB 24.1 MB/s eta 0:00:01\r\u001b[K     |███████████████████████▋        | 901 kB 24.1 MB/s eta 0:00:01\r\u001b[K     |███████████████████████▉        | 911 kB 24.1 MB/s eta 0:00:01\r\u001b[K     |████████████████████████▏       | 921 kB 24.1 MB/s eta 0:00:01\r\u001b[K     |████████████████████████▍       | 931 kB 24.1 MB/s eta 0:00:01\r\u001b[K     |████████████████████████▋       | 942 kB 24.1 MB/s eta 0:00:01\r\u001b[K     |█████████████████████████       | 952 kB 24.1 MB/s eta 0:00:01\r\u001b[K     |█████████████████████████▏      | 962 kB 24.1 MB/s eta 0:00:01\r\u001b[K     |█████████████████████████▌      | 972 kB 24.1 MB/s eta 0:00:01\r\u001b[K     |█████████████████████████▊      | 983 kB 24.1 MB/s eta 0:00:01\r\u001b[K     |██████████████████████████      | 993 kB 24.1 MB/s eta 0:00:01\r\u001b[K     |██████████████████████████▎     | 1.0 MB 24.1 MB/s eta 0:00:01\r\u001b[K     |██████████████████████████▌     | 1.0 MB 24.1 MB/s eta 0:00:01\r\u001b[K     |██████████████████████████▉     | 1.0 MB 24.1 MB/s eta 0:00:01\r\u001b[K     |███████████████████████████     | 1.0 MB 24.1 MB/s eta 0:00:01\r\u001b[K     |███████████████████████████▍    | 1.0 MB 24.1 MB/s eta 0:00:01\r\u001b[K     |███████████████████████████▋    | 1.1 MB 24.1 MB/s eta 0:00:01\r\u001b[K     |███████████████████████████▉    | 1.1 MB 24.1 MB/s eta 0:00:01\r\u001b[K     |████████████████████████████▏   | 1.1 MB 24.1 MB/s eta 0:00:01\r\u001b[K     |████████████████████████████▍   | 1.1 MB 24.1 MB/s eta 0:00:01\r\u001b[K     |████████████████████████████▊   | 1.1 MB 24.1 MB/s eta 0:00:01\r\u001b[K     |█████████████████████████████   | 1.1 MB 24.1 MB/s eta 0:00:01\r\u001b[K     |█████████████████████████████▏  | 1.1 MB 24.1 MB/s eta 0:00:01\r\u001b[K     |█████████████████████████████▌  | 1.1 MB 24.1 MB/s eta 0:00:01\r\u001b[K     |█████████████████████████████▊  | 1.1 MB 24.1 MB/s eta 0:00:01\r\u001b[K     |██████████████████████████████  | 1.1 MB 24.1 MB/s eta 0:00:01\r\u001b[K     |██████████████████████████████▎ | 1.2 MB 24.1 MB/s eta 0:00:01\r\u001b[K     |██████████████████████████████▌ | 1.2 MB 24.1 MB/s eta 0:00:01\r\u001b[K     |██████████████████████████████▉ | 1.2 MB 24.1 MB/s eta 0:00:01\r\u001b[K     |███████████████████████████████ | 1.2 MB 24.1 MB/s eta 0:00:01\r\u001b[K     |███████████████████████████████▍| 1.2 MB 24.1 MB/s eta 0:00:01\r\u001b[K     |███████████████████████████████▋| 1.2 MB 24.1 MB/s eta 0:00:01\r\u001b[K     |████████████████████████████████| 1.2 MB 24.1 MB/s eta 0:00:01\r\u001b[K     |████████████████████████████████| 1.2 MB 24.1 MB/s \n",
            "\u001b[?25hInstalling collected packages: lz4\n",
            "Successfully installed lz4-4.0.0\n"
          ]
        }
      ]
    },
    {
      "cell_type": "code",
      "source": [
        "# A hack to force the runtime to restart, needed to include the above dependencies.\n",
        "import os\n",
        "os._exit(0)"
      ],
      "metadata": {
        "id": "UhAcC68VWir_"
      },
      "execution_count": null,
      "outputs": []
    },
    {
      "cell_type": "code",
      "source": [
        "%cd /content/gdrive/MyDrive/project_folder/ray"
      ],
      "metadata": {
        "colab": {
          "base_uri": "https://localhost:8080/"
        },
        "id": "AII684V21bFC",
        "outputId": "2f7e2354-3410-4ab9-820d-e2562b2f32fc"
      },
      "execution_count": 16,
      "outputs": [
        {
          "output_type": "stream",
          "name": "stdout",
          "text": [
            "/content/gdrive/MyDrive/project_folder/ray\n"
          ]
        }
      ]
    },
    {
      "cell_type": "code",
      "source": [
        "import sys, os\n",
        "sys.path.append(os.getcwd())"
      ],
      "metadata": {
        "id": "v4mvyWdS1iEr"
      },
      "execution_count": 17,
      "outputs": []
    },
    {
      "cell_type": "code",
      "source": [
        "import ray\n",
        "#!pip install git+https://github.com/ray-project/ray.git\n",
        "import functools\n",
        "import gym\n",
        "from math import log\n",
        "import numpy as np\n",
        "import tree  # pip install dm_tree\n",
        "from typing import Optional\n",
        "from ray.rllib.agents.ppo import PPOTrainer\n",
        "import pandas as pd\n",
        "\n",
        "import psutil\n",
        "ray._private.utils.get_system_memory = lambda: psutil.virtual_memory().total\n",
        "\n"
      ],
      "metadata": {
        "id": "pPcT-jik7YeC",
        "colab": {
          "base_uri": "https://localhost:8080/",
          "height": 520
        },
        "outputId": "4948c687-e4c4-4144-d70d-805bb21d5971"
      },
      "execution_count": 20,
      "outputs": [
        {
          "output_type": "error",
          "ename": "ModuleNotFoundError",
          "evalue": "ignored",
          "traceback": [
            "\u001b[0;31m---------------------------------------------------------------------------\u001b[0m",
            "\u001b[0;31mModuleNotFoundError\u001b[0m                       Traceback (most recent call last)",
            "\u001b[0;32m<ipython-input-20-fc3481f00e09>\u001b[0m in \u001b[0;36m<module>\u001b[0;34m()\u001b[0m\n\u001b[1;32m      7\u001b[0m \u001b[0;32mimport\u001b[0m \u001b[0mtree\u001b[0m  \u001b[0;31m# pip install dm_tree\u001b[0m\u001b[0;34m\u001b[0m\u001b[0;34m\u001b[0m\u001b[0m\n\u001b[1;32m      8\u001b[0m \u001b[0;32mfrom\u001b[0m \u001b[0mtyping\u001b[0m \u001b[0;32mimport\u001b[0m \u001b[0mOptional\u001b[0m\u001b[0;34m\u001b[0m\u001b[0;34m\u001b[0m\u001b[0m\n\u001b[0;32m----> 9\u001b[0;31m \u001b[0;32mfrom\u001b[0m \u001b[0mray\u001b[0m\u001b[0;34m.\u001b[0m\u001b[0mrllib\u001b[0m\u001b[0;34m.\u001b[0m\u001b[0magents\u001b[0m\u001b[0;34m.\u001b[0m\u001b[0mppo\u001b[0m \u001b[0;32mimport\u001b[0m \u001b[0mPPOTrainer\u001b[0m\u001b[0;34m\u001b[0m\u001b[0;34m\u001b[0m\u001b[0m\n\u001b[0m\u001b[1;32m     10\u001b[0m \u001b[0;32mimport\u001b[0m \u001b[0mpandas\u001b[0m \u001b[0;32mas\u001b[0m \u001b[0mpd\u001b[0m\u001b[0;34m\u001b[0m\u001b[0;34m\u001b[0m\u001b[0m\n\u001b[1;32m     11\u001b[0m \u001b[0;34m\u001b[0m\u001b[0m\n",
            "\u001b[0;32m/content/gdrive/MyDrive/project_folder/ray/rllib/__init__.py\u001b[0m in \u001b[0;36m<module>\u001b[0;34m()\u001b[0m\n\u001b[1;32m      3\u001b[0m \u001b[0;31m# Note: do not introduce unnecessary library dependencies here, e.g. gym.\u001b[0m\u001b[0;34m\u001b[0m\u001b[0;34m\u001b[0m\u001b[0;34m\u001b[0m\u001b[0m\n\u001b[1;32m      4\u001b[0m \u001b[0;31m# This file is imported from the tune module in order to register RLlib agents.\u001b[0m\u001b[0;34m\u001b[0m\u001b[0;34m\u001b[0m\u001b[0;34m\u001b[0m\u001b[0m\n\u001b[0;32m----> 5\u001b[0;31m \u001b[0;32mfrom\u001b[0m \u001b[0mray\u001b[0m\u001b[0;34m.\u001b[0m\u001b[0mrllib\u001b[0m\u001b[0;34m.\u001b[0m\u001b[0menv\u001b[0m\u001b[0;34m.\u001b[0m\u001b[0mbase_env\u001b[0m \u001b[0;32mimport\u001b[0m \u001b[0mBaseEnv\u001b[0m\u001b[0;34m\u001b[0m\u001b[0;34m\u001b[0m\u001b[0m\n\u001b[0m\u001b[1;32m      6\u001b[0m \u001b[0;32mfrom\u001b[0m \u001b[0mray\u001b[0m\u001b[0;34m.\u001b[0m\u001b[0mrllib\u001b[0m\u001b[0;34m.\u001b[0m\u001b[0menv\u001b[0m\u001b[0;34m.\u001b[0m\u001b[0mexternal_env\u001b[0m \u001b[0;32mimport\u001b[0m \u001b[0mExternalEnv\u001b[0m\u001b[0;34m\u001b[0m\u001b[0;34m\u001b[0m\u001b[0m\n\u001b[1;32m      7\u001b[0m \u001b[0;32mfrom\u001b[0m \u001b[0mray\u001b[0m\u001b[0;34m.\u001b[0m\u001b[0mrllib\u001b[0m\u001b[0;34m.\u001b[0m\u001b[0menv\u001b[0m\u001b[0;34m.\u001b[0m\u001b[0mmulti_agent_env\u001b[0m \u001b[0;32mimport\u001b[0m \u001b[0mMultiAgentEnv\u001b[0m\u001b[0;34m\u001b[0m\u001b[0;34m\u001b[0m\u001b[0m\n",
            "\u001b[0;32m/content/gdrive/MyDrive/project_folder/ray/rllib/env/__init__.py\u001b[0m in \u001b[0;36m<module>\u001b[0;34m()\u001b[0m\n\u001b[0;32m----> 1\u001b[0;31m \u001b[0;32mfrom\u001b[0m \u001b[0mray\u001b[0m\u001b[0;34m.\u001b[0m\u001b[0mrllib\u001b[0m\u001b[0;34m.\u001b[0m\u001b[0menv\u001b[0m\u001b[0;34m.\u001b[0m\u001b[0mbase_env\u001b[0m \u001b[0;32mimport\u001b[0m \u001b[0mBaseEnv\u001b[0m\u001b[0;34m\u001b[0m\u001b[0;34m\u001b[0m\u001b[0m\n\u001b[0m\u001b[1;32m      2\u001b[0m \u001b[0;32mfrom\u001b[0m \u001b[0mray\u001b[0m\u001b[0;34m.\u001b[0m\u001b[0mrllib\u001b[0m\u001b[0;34m.\u001b[0m\u001b[0menv\u001b[0m\u001b[0;34m.\u001b[0m\u001b[0menv_context\u001b[0m \u001b[0;32mimport\u001b[0m \u001b[0mEnvContext\u001b[0m\u001b[0;34m\u001b[0m\u001b[0;34m\u001b[0m\u001b[0m\n\u001b[1;32m      3\u001b[0m \u001b[0;32mfrom\u001b[0m \u001b[0mray\u001b[0m\u001b[0;34m.\u001b[0m\u001b[0mrllib\u001b[0m\u001b[0;34m.\u001b[0m\u001b[0menv\u001b[0m\u001b[0;34m.\u001b[0m\u001b[0mexternal_env\u001b[0m \u001b[0;32mimport\u001b[0m \u001b[0mExternalEnv\u001b[0m\u001b[0;34m\u001b[0m\u001b[0;34m\u001b[0m\u001b[0m\n\u001b[1;32m      4\u001b[0m \u001b[0;32mfrom\u001b[0m \u001b[0mray\u001b[0m\u001b[0;34m.\u001b[0m\u001b[0mrllib\u001b[0m\u001b[0;34m.\u001b[0m\u001b[0menv\u001b[0m\u001b[0;34m.\u001b[0m\u001b[0mexternal_multi_agent_env\u001b[0m \u001b[0;32mimport\u001b[0m \u001b[0mExternalMultiAgentEnv\u001b[0m\u001b[0;34m\u001b[0m\u001b[0;34m\u001b[0m\u001b[0m\n\u001b[1;32m      5\u001b[0m \u001b[0;32mfrom\u001b[0m \u001b[0mray\u001b[0m\u001b[0;34m.\u001b[0m\u001b[0mrllib\u001b[0m\u001b[0;34m.\u001b[0m\u001b[0menv\u001b[0m\u001b[0;34m.\u001b[0m\u001b[0mmulti_agent_env\u001b[0m \u001b[0;32mimport\u001b[0m \u001b[0mMultiAgentEnv\u001b[0m\u001b[0;34m\u001b[0m\u001b[0;34m\u001b[0m\u001b[0m\n",
            "\u001b[0;32m/content/gdrive/MyDrive/project_folder/ray/rllib/env/base_env.py\u001b[0m in \u001b[0;36m<module>\u001b[0;34m()\u001b[0m\n\u001b[1;32m      4\u001b[0m \u001b[0;32mimport\u001b[0m \u001b[0mgym\u001b[0m\u001b[0;34m\u001b[0m\u001b[0;34m\u001b[0m\u001b[0m\n\u001b[1;32m      5\u001b[0m \u001b[0;32mimport\u001b[0m \u001b[0mray\u001b[0m\u001b[0;34m\u001b[0m\u001b[0;34m\u001b[0m\u001b[0m\n\u001b[0;32m----> 6\u001b[0;31m \u001b[0;32mfrom\u001b[0m \u001b[0mray\u001b[0m\u001b[0;34m.\u001b[0m\u001b[0mrllib\u001b[0m\u001b[0;34m.\u001b[0m\u001b[0mutils\u001b[0m\u001b[0;34m.\u001b[0m\u001b[0mannotations\u001b[0m \u001b[0;32mimport\u001b[0m \u001b[0mDeprecated\u001b[0m\u001b[0;34m,\u001b[0m \u001b[0moverride\u001b[0m\u001b[0;34m,\u001b[0m \u001b[0mPublicAPI\u001b[0m\u001b[0;34m\u001b[0m\u001b[0;34m\u001b[0m\u001b[0m\n\u001b[0m\u001b[1;32m      7\u001b[0m \u001b[0;32mfrom\u001b[0m \u001b[0mray\u001b[0m\u001b[0;34m.\u001b[0m\u001b[0mrllib\u001b[0m\u001b[0;34m.\u001b[0m\u001b[0mutils\u001b[0m\u001b[0;34m.\u001b[0m\u001b[0mtyping\u001b[0m \u001b[0;32mimport\u001b[0m \u001b[0mAgentID\u001b[0m\u001b[0;34m,\u001b[0m \u001b[0mEnvID\u001b[0m\u001b[0;34m,\u001b[0m \u001b[0mEnvType\u001b[0m\u001b[0;34m,\u001b[0m \u001b[0mMultiAgentDict\u001b[0m\u001b[0;34m,\u001b[0m \u001b[0mMultiEnvDict\u001b[0m\u001b[0;34m\u001b[0m\u001b[0;34m\u001b[0m\u001b[0m\n\u001b[1;32m      8\u001b[0m \u001b[0;34m\u001b[0m\u001b[0m\n",
            "\u001b[0;32m/content/gdrive/MyDrive/project_folder/ray/rllib/utils/__init__.py\u001b[0m in \u001b[0;36m<module>\u001b[0;34m()\u001b[0m\n\u001b[1;32m      2\u001b[0m \u001b[0;32mfrom\u001b[0m \u001b[0mfunctools\u001b[0m \u001b[0;32mimport\u001b[0m \u001b[0mpartial\u001b[0m\u001b[0;34m\u001b[0m\u001b[0;34m\u001b[0m\u001b[0m\n\u001b[1;32m      3\u001b[0m \u001b[0;34m\u001b[0m\u001b[0m\n\u001b[0;32m----> 4\u001b[0;31m \u001b[0;32mfrom\u001b[0m \u001b[0mray\u001b[0m\u001b[0;34m.\u001b[0m\u001b[0mrllib\u001b[0m\u001b[0;34m.\u001b[0m\u001b[0mutils\u001b[0m\u001b[0;34m.\u001b[0m\u001b[0mannotations\u001b[0m \u001b[0;32mimport\u001b[0m \u001b[0moverride\u001b[0m\u001b[0;34m,\u001b[0m \u001b[0mPublicAPI\u001b[0m\u001b[0;34m,\u001b[0m \u001b[0mDeveloperAPI\u001b[0m\u001b[0;34m\u001b[0m\u001b[0;34m\u001b[0m\u001b[0m\n\u001b[0m\u001b[1;32m      5\u001b[0m \u001b[0;32mfrom\u001b[0m \u001b[0mray\u001b[0m\u001b[0;34m.\u001b[0m\u001b[0mrllib\u001b[0m\u001b[0;34m.\u001b[0m\u001b[0mutils\u001b[0m\u001b[0;34m.\u001b[0m\u001b[0mframework\u001b[0m \u001b[0;32mimport\u001b[0m \u001b[0mtry_import_tf\u001b[0m\u001b[0;34m,\u001b[0m \u001b[0mtry_import_tfp\u001b[0m\u001b[0;34m,\u001b[0m \u001b[0mtry_import_torch\u001b[0m\u001b[0;34m\u001b[0m\u001b[0;34m\u001b[0m\u001b[0m\n\u001b[1;32m      6\u001b[0m \u001b[0;32mfrom\u001b[0m \u001b[0mray\u001b[0m\u001b[0;34m.\u001b[0m\u001b[0mrllib\u001b[0m\u001b[0;34m.\u001b[0m\u001b[0mutils\u001b[0m\u001b[0;34m.\u001b[0m\u001b[0mdeprecation\u001b[0m \u001b[0;32mimport\u001b[0m \u001b[0mdeprecation_warning\u001b[0m\u001b[0;34m\u001b[0m\u001b[0;34m\u001b[0m\u001b[0m\n",
            "\u001b[0;32m/content/gdrive/MyDrive/project_folder/ray/rllib/utils/annotations.py\u001b[0m in \u001b[0;36m<module>\u001b[0;34m()\u001b[0m\n\u001b[0;32m----> 1\u001b[0;31m \u001b[0;32mfrom\u001b[0m \u001b[0mray\u001b[0m\u001b[0;34m.\u001b[0m\u001b[0mrllib\u001b[0m\u001b[0;34m.\u001b[0m\u001b[0mutils\u001b[0m\u001b[0;34m.\u001b[0m\u001b[0mdeprecation\u001b[0m \u001b[0;32mimport\u001b[0m \u001b[0mDeprecated\u001b[0m\u001b[0;34m\u001b[0m\u001b[0;34m\u001b[0m\u001b[0m\n\u001b[0m\u001b[1;32m      2\u001b[0m \u001b[0;34m\u001b[0m\u001b[0m\n\u001b[1;32m      3\u001b[0m \u001b[0;34m\u001b[0m\u001b[0m\n\u001b[1;32m      4\u001b[0m \u001b[0;32mdef\u001b[0m \u001b[0moverride\u001b[0m\u001b[0;34m(\u001b[0m\u001b[0mcls\u001b[0m\u001b[0;34m)\u001b[0m\u001b[0;34m:\u001b[0m\u001b[0;34m\u001b[0m\u001b[0;34m\u001b[0m\u001b[0m\n\u001b[1;32m      5\u001b[0m     \"\"\"Decorator for documenting method overrides.\n",
            "\u001b[0;32m/content/gdrive/MyDrive/project_folder/ray/rllib/utils/deprecation.py\u001b[0m in \u001b[0;36m<module>\u001b[0;34m()\u001b[0m\n\u001b[1;32m      3\u001b[0m \u001b[0;32mfrom\u001b[0m \u001b[0mtyping\u001b[0m \u001b[0;32mimport\u001b[0m \u001b[0mOptional\u001b[0m\u001b[0;34m,\u001b[0m \u001b[0mUnion\u001b[0m\u001b[0;34m\u001b[0m\u001b[0;34m\u001b[0m\u001b[0m\n\u001b[1;32m      4\u001b[0m \u001b[0;34m\u001b[0m\u001b[0m\n\u001b[0;32m----> 5\u001b[0;31m \u001b[0;32mfrom\u001b[0m \u001b[0mray\u001b[0m\u001b[0;34m.\u001b[0m\u001b[0mutil\u001b[0m \u001b[0;32mimport\u001b[0m \u001b[0mlog_once\u001b[0m\u001b[0;34m\u001b[0m\u001b[0;34m\u001b[0m\u001b[0m\n\u001b[0m\u001b[1;32m      6\u001b[0m \u001b[0;34m\u001b[0m\u001b[0m\n\u001b[1;32m      7\u001b[0m \u001b[0mlogger\u001b[0m \u001b[0;34m=\u001b[0m \u001b[0mlogging\u001b[0m\u001b[0;34m.\u001b[0m\u001b[0mgetLogger\u001b[0m\u001b[0;34m(\u001b[0m\u001b[0m__name__\u001b[0m\u001b[0;34m)\u001b[0m\u001b[0;34m\u001b[0m\u001b[0;34m\u001b[0m\u001b[0m\n",
            "\u001b[0;31mModuleNotFoundError\u001b[0m: No module named 'ray.util'",
            "",
            "\u001b[0;31m---------------------------------------------------------------------------\u001b[0;32m\nNOTE: If your import is failing due to a missing package, you can\nmanually install dependencies using either !pip or !apt.\n\nTo view examples of installing some common dependencies, click the\n\"Open Examples\" button below.\n\u001b[0;31m---------------------------------------------------------------------------\u001b[0m\n"
          ],
          "errorDetails": {
            "actions": [
              {
                "action": "open_url",
                "actionText": "Open Examples",
                "url": "/notebooks/snippets/importing_libraries.ipynb"
              }
            ]
          }
        }
      ]
    },
    {
      "cell_type": "code",
      "source": [
        "%cd /content/gdrive/MyDrive/project_folder/ray\n",
        "! git pull"
      ],
      "metadata": {
        "colab": {
          "base_uri": "https://localhost:8080/"
        },
        "id": "aA-CsZrVyN65",
        "outputId": "1a5775d5-5fa7-4499-f67a-608c7dea02cf"
      },
      "execution_count": 13,
      "outputs": [
        {
          "output_type": "stream",
          "name": "stdout",
          "text": [
            "/content/gdrive/MyDrive/project_folder/ray\n",
            "Already up to date.\n"
          ]
        }
      ]
    },
    {
      "cell_type": "code",
      "source": [
        "# Define your problem using python and openAI's gym API:\n",
        "class ParrotEnv(gym.Env):\n",
        "    \"\"\"Environment in which an agent must learn to repeat the seen observations.\n",
        "    Observations are float numbers indicating the to-be-repeated values,\n",
        "    e.g. -1.0, 5.1, or 3.2.\n",
        "    The action space is always the same as the observation space.\n",
        "    Rewards are r=-abs(observation - action), for all steps.\n",
        "    \"\"\"\n",
        "\n",
        "    def __init__(self, config):\n",
        "        # Make the space (for actions and observations) configurable.\n",
        "        self.action_space = config.get(\n",
        "            \"parrot_shriek_range\", gym.spaces.Box(-1.0, 1.0, shape=(1,))\n",
        "        )\n",
        "        # Since actions should repeat observations, their spaces must be the\n",
        "        # same.\n",
        "        self.observation_space = self.action_space\n",
        "        self.cur_obs = None\n",
        "        self.episode_len = 0\n",
        "\n",
        "    def reset(self):\n",
        "        \"\"\"Resets the episode and returns the initial observation of the new one.\"\"\"\n",
        "        # Reset the episode len.\n",
        "        self.episode_len = 0\n",
        "        # Sample a random number from our observation space.\n",
        "        self.cur_obs = self.observation_space.sample()\n",
        "        # Return initial observation.\n",
        "        return self.cur_obs\n",
        "\n",
        "    def step(self, action):\n",
        "        \"\"\"Takes a single step in the episode given `action`\n",
        "        Returns: New observation, reward, done-flag, info-dict (empty).\n",
        "        \"\"\"\n",
        "        # Set `done` flag after 10 steps.\n",
        "        self.episode_len += 1\n",
        "        done = self.episode_len >= 10\n",
        "        # r = -abs(obs - action)\n",
        "\n",
        "        #print(type(self.cur_obs))\n",
        "        #print(type(action))\n",
        "        \n",
        "\n",
        "        reward = int(-abs(self.cur_obs - action))\n",
        "        #print(type(reward))\n",
        "        # Set a new observation (random sample).\n",
        "        self.cur_obs = self.observation_space.sample()\n",
        "        return self.cur_obs, reward, done, {}\n",
        "\n",
        "\n",
        "# Create an RLlib Trainer instance to learn how to act in the above\n",
        "# environment.\n",
        "trainer = PPOTrainer(\n",
        "    config={\n",
        "        # Env class to use (here: our gym.Env sub-class from above).\n",
        "        \"env\": ParrotEnv,\n",
        "        # Config dict to be passed to our custom env's constructor.\n",
        "        \"env_config\": {\"parrot_shriek_range\": gym.spaces.Box(-5.0, 5.0, (1,))},\n",
        "        # Parallelize environment rollouts.\n",
        "        \"num_workers\": 1,\n",
        "        \"model\":{\n",
        "            \"use_lstm\": True,\n",
        "            \"lstm_cell_size\": 256,\n",
        "            \"lstm_use_prev_action\": True,\n",
        "            \"lstm_use_prev_reward\": True\n",
        "        }\n",
        "    }\n",
        ")\n",
        "\n",
        "# Train for n iterations and report results (mean episode rewards).\n",
        "# Since we have to guess 10 times and the optimal reward is 0.0\n",
        "# (exact match between observation and action value),\n",
        "# we can expect to reach an optimal episode reward of 0.0.\n",
        "for i in range(2):\n",
        "    results = trainer.train()\n",
        "    print(f\"Iter: {i}; avg. reward={results['episode_reward_mean']}\")\n",
        "\n",
        "# Perform inference (action computations) based on given env observations.\n",
        "# Note that we are using a slightly simpler env here (-3.0 to 3.0, instead\n",
        "# of -5.0 to 5.0!), however, this should still work as the agent has\n",
        "# (hopefully) learned to \"just always repeat the observation!\".\n",
        "env = ParrotEnv({\"parrot_shriek_range\": gym.spaces.Box(-3.0, 3.0, (1,))})\n",
        "# Get the initial observation (some value between -10.0 and 10.0).\n",
        "obs = env.reset()\n",
        "state = [np.zeros([256], np.float32) for _ in range(2)]\n",
        "prev_a = 0\n",
        "prev_r = 0.0\n",
        "done = False\n",
        "total_reward = 0.0\n",
        "# Play one episode.\n",
        "while not done:\n",
        "    # Compute a single action, given the current observation\n",
        "    # from the environment.\n",
        "    action, state, _ = trainer.compute_single_action(obs, state, prev_action=prev_a, prev_reward=prev_r)\n",
        "    # Apply the computed action in the environment.\n",
        "    obs, reward, done, info = env.step(action)\n",
        "    prev_a = action\n",
        "    prev_r = reward\n",
        "    # Sum up rewards for reporting purposes.\n",
        "    total_reward += reward\n",
        "# Report results.\n",
        "print(f\"Played 1 episode; total-reward={total_reward}\")"
      ],
      "metadata": {
        "colab": {
          "base_uri": "https://localhost:8080/",
          "height": 1000
        },
        "id": "uWA8fMGuQ6J4",
        "outputId": "6f543e20-159e-4861-cb33-221306e1c7e1"
      },
      "execution_count": 2,
      "outputs": [
        {
          "output_type": "stream",
          "name": "stderr",
          "text": [
            "Could not instantiate TBXLogger: No module named 'tensorboardX'.\n",
            "\u001b[2m\u001b[36m(pid=584)\u001b[0m 2022-04-26 07:13:39,817\tWARNING compression.py:18 -- lz4 not available, disabling sample compression. This will significantly impact RLlib performance. To install lz4, run `pip install lz4`.\n",
            "\u001b[2m\u001b[36m(RolloutWorker pid=584)\u001b[0m 2022-04-26 07:13:40,495\tWARNING rollout_worker.py:499 -- We've added a module for checking environments that are used in experiments. It will cause your environment to fail if your environment is not set upcorrectly. You can disable check env by setting `disable_env_checking` to True in your experiment config dictionary. You can run the environment checking module standalone by calling ray.rllib.utils.check_env(env).\n",
            "\u001b[2m\u001b[36m(RolloutWorker pid=584)\u001b[0m 2022-04-26 07:13:40,495\tWARNING env.py:121 -- Your env doesn't have a .spec.max_episode_steps attribute. This is fine if you have set 'horizon' in your config dictionary, or `soft_horizon`. However, if you haven't, 'horizon' will default to infinity, and your environment will not be reset.\n",
            "2022-04-26 07:13:45,312\tINFO trainable.py:156 -- Trainable.setup took 12.833 seconds. If your trainable is slow to initialize, consider setting reuse_actors=True to reduce actor creation overheads.\n",
            "2022-04-26 07:13:45,313\tWARNING util.py:60 -- Install gputil for GPU system monitoring.\n",
            "2022-04-26 07:13:52,891\tWARNING deprecation.py:47 -- DeprecationWarning: `slice` has been deprecated. Use `SampleBatch[start:stop]` instead. This will raise an error in the future!\n"
          ]
        },
        {
          "output_type": "stream",
          "name": "stdout",
          "text": [
            "Iter: 0; avg. reward=-32.52\n"
          ]
        },
        {
          "output_type": "stream",
          "name": "stderr",
          "text": [
            "2022-04-26 07:15:11,557\tERROR tf_run_builder.py:52 -- Error fetching: [<tf.Tensor 'default_policy/cond_1/Merge:0' shape=(?, 1) dtype=float32>, <tf.Tensor 'default_policy/model_1/lstm/while/Exit_3:0' shape=(?, 256) dtype=float32>, <tf.Tensor 'default_policy/model_1/lstm/while/Exit_4:0' shape=(?, 256) dtype=float32>, {'action_prob': <tf.Tensor 'default_policy/Exp_1:0' shape=(?,) dtype=float32>, 'action_logp': <tf.Tensor 'default_policy/cond_2/Merge:0' shape=(?,) dtype=float32>, 'action_dist_inputs': <tf.Tensor 'default_policy/Reshape_3:0' shape=(?, 2) dtype=float32>, 'vf_preds': <tf.Tensor 'default_policy/Reshape_4:0' shape=(?,) dtype=float32>}], feed_dict={<tf.Tensor 'default_policy/obs:0' shape=(?, 1) dtype=float32>: array([[2.817867]], dtype=float32), <tf.Tensor 'default_policy/state_in_0:0' shape=(?, 256) dtype=float32>: array([[0., 0., 0., 0., 0., 0., 0., 0., 0., 0., 0., 0., 0., 0., 0., 0.,\n",
            "        0., 0., 0., 0., 0., 0., 0., 0., 0., 0., 0., 0., 0., 0., 0., 0.,\n",
            "        0., 0., 0., 0., 0., 0., 0., 0., 0., 0., 0., 0., 0., 0., 0., 0.,\n",
            "        0., 0., 0., 0., 0., 0., 0., 0., 0., 0., 0., 0., 0., 0., 0., 0.,\n",
            "        0., 0., 0., 0., 0., 0., 0., 0., 0., 0., 0., 0., 0., 0., 0., 0.,\n",
            "        0., 0., 0., 0., 0., 0., 0., 0., 0., 0., 0., 0., 0., 0., 0., 0.,\n",
            "        0., 0., 0., 0., 0., 0., 0., 0., 0., 0., 0., 0., 0., 0., 0., 0.,\n",
            "        0., 0., 0., 0., 0., 0., 0., 0., 0., 0., 0., 0., 0., 0., 0., 0.,\n",
            "        0., 0., 0., 0., 0., 0., 0., 0., 0., 0., 0., 0., 0., 0., 0., 0.,\n",
            "        0., 0., 0., 0., 0., 0., 0., 0., 0., 0., 0., 0., 0., 0., 0., 0.,\n",
            "        0., 0., 0., 0., 0., 0., 0., 0., 0., 0., 0., 0., 0., 0., 0., 0.,\n",
            "        0., 0., 0., 0., 0., 0., 0., 0., 0., 0., 0., 0., 0., 0., 0., 0.,\n",
            "        0., 0., 0., 0., 0., 0., 0., 0., 0., 0., 0., 0., 0., 0., 0., 0.,\n",
            "        0., 0., 0., 0., 0., 0., 0., 0., 0., 0., 0., 0., 0., 0., 0., 0.,\n",
            "        0., 0., 0., 0., 0., 0., 0., 0., 0., 0., 0., 0., 0., 0., 0., 0.,\n",
            "        0., 0., 0., 0., 0., 0., 0., 0., 0., 0., 0., 0., 0., 0., 0., 0.]],\n",
            "      dtype=float32), <tf.Tensor 'default_policy/state_in_1:0' shape=(?, 256) dtype=float32>: array([[0., 0., 0., 0., 0., 0., 0., 0., 0., 0., 0., 0., 0., 0., 0., 0.,\n",
            "        0., 0., 0., 0., 0., 0., 0., 0., 0., 0., 0., 0., 0., 0., 0., 0.,\n",
            "        0., 0., 0., 0., 0., 0., 0., 0., 0., 0., 0., 0., 0., 0., 0., 0.,\n",
            "        0., 0., 0., 0., 0., 0., 0., 0., 0., 0., 0., 0., 0., 0., 0., 0.,\n",
            "        0., 0., 0., 0., 0., 0., 0., 0., 0., 0., 0., 0., 0., 0., 0., 0.,\n",
            "        0., 0., 0., 0., 0., 0., 0., 0., 0., 0., 0., 0., 0., 0., 0., 0.,\n",
            "        0., 0., 0., 0., 0., 0., 0., 0., 0., 0., 0., 0., 0., 0., 0., 0.,\n",
            "        0., 0., 0., 0., 0., 0., 0., 0., 0., 0., 0., 0., 0., 0., 0., 0.,\n",
            "        0., 0., 0., 0., 0., 0., 0., 0., 0., 0., 0., 0., 0., 0., 0., 0.,\n",
            "        0., 0., 0., 0., 0., 0., 0., 0., 0., 0., 0., 0., 0., 0., 0., 0.,\n",
            "        0., 0., 0., 0., 0., 0., 0., 0., 0., 0., 0., 0., 0., 0., 0., 0.,\n",
            "        0., 0., 0., 0., 0., 0., 0., 0., 0., 0., 0., 0., 0., 0., 0., 0.,\n",
            "        0., 0., 0., 0., 0., 0., 0., 0., 0., 0., 0., 0., 0., 0., 0., 0.,\n",
            "        0., 0., 0., 0., 0., 0., 0., 0., 0., 0., 0., 0., 0., 0., 0., 0.,\n",
            "        0., 0., 0., 0., 0., 0., 0., 0., 0., 0., 0., 0., 0., 0., 0., 0.,\n",
            "        0., 0., 0., 0., 0., 0., 0., 0., 0., 0., 0., 0., 0., 0., 0., 0.]],\n",
            "      dtype=float32), <tf.Tensor 'default_policy/prev_actions:0' shape=(?, 1) dtype=float32>: array([0]), <tf.Tensor 'default_policy/prev_rewards:0' shape=(?,) dtype=float32>: array([0.]), <tf.Tensor 'default_policy/seq_lens:0' shape=(?,) dtype=int32>: array([1.]), <tf.Tensor 'default_policy/is_training:0' shape=() dtype=bool>: False, <tf.Tensor 'default_policy/is_exploring:0' shape=() dtype=bool>: True, <tf.Tensor 'default_policy/timestep:0' shape=() dtype=int64>: 8000}\n",
            "Traceback (most recent call last):\n",
            "  File \"/usr/local/lib/python3.7/dist-packages/ray/rllib/utils/tf_run_builder.py\", line 47, in get\n",
            "    os.environ.get(\"TF_TIMELINE_DIR\"),\n",
            "  File \"/usr/local/lib/python3.7/dist-packages/ray/rllib/utils/tf_run_builder.py\", line 102, in run_timeline\n",
            "    fetches = sess.run(ops, feed_dict=feed_dict)\n",
            "  File \"/usr/local/lib/python3.7/dist-packages/tensorflow/python/client/session.py\", line 968, in run\n",
            "    run_metadata_ptr)\n",
            "  File \"/usr/local/lib/python3.7/dist-packages/tensorflow/python/client/session.py\", line 1165, in _run\n",
            "    f'Cannot feed value of shape {str(np_val.shape)} for Tensor '\n",
            "ValueError: Cannot feed value of shape (1,) for Tensor default_policy/prev_actions:0, which has shape (?, 1)\n"
          ]
        },
        {
          "output_type": "stream",
          "name": "stdout",
          "text": [
            "Iter: 1; avg. reward=-26.87\n"
          ]
        },
        {
          "output_type": "error",
          "ename": "ValueError",
          "evalue": "ignored",
          "traceback": [
            "\u001b[0;31m---------------------------------------------------------------------------\u001b[0m",
            "\u001b[0;31mValueError\u001b[0m                                Traceback (most recent call last)",
            "\u001b[0;32m<ipython-input-2-f7b7bcaf20a6>\u001b[0m in \u001b[0;36m<module>\u001b[0;34m()\u001b[0m\n\u001b[1;32m     91\u001b[0m     \u001b[0;31m# Compute a single action, given the current observation\u001b[0m\u001b[0;34m\u001b[0m\u001b[0;34m\u001b[0m\u001b[0;34m\u001b[0m\u001b[0m\n\u001b[1;32m     92\u001b[0m     \u001b[0;31m# from the environment.\u001b[0m\u001b[0;34m\u001b[0m\u001b[0;34m\u001b[0m\u001b[0;34m\u001b[0m\u001b[0m\n\u001b[0;32m---> 93\u001b[0;31m     \u001b[0maction\u001b[0m\u001b[0;34m,\u001b[0m \u001b[0mstate\u001b[0m\u001b[0;34m,\u001b[0m \u001b[0m_\u001b[0m \u001b[0;34m=\u001b[0m \u001b[0mtrainer\u001b[0m\u001b[0;34m.\u001b[0m\u001b[0mcompute_single_action\u001b[0m\u001b[0;34m(\u001b[0m\u001b[0mobs\u001b[0m\u001b[0;34m,\u001b[0m \u001b[0mstate\u001b[0m\u001b[0;34m,\u001b[0m \u001b[0mprev_action\u001b[0m\u001b[0;34m=\u001b[0m\u001b[0mprev_a\u001b[0m\u001b[0;34m,\u001b[0m \u001b[0mprev_reward\u001b[0m\u001b[0;34m=\u001b[0m\u001b[0mprev_r\u001b[0m\u001b[0;34m)\u001b[0m\u001b[0;34m\u001b[0m\u001b[0;34m\u001b[0m\u001b[0m\n\u001b[0m\u001b[1;32m     94\u001b[0m     \u001b[0;31m# Apply the computed action in the environment.\u001b[0m\u001b[0;34m\u001b[0m\u001b[0;34m\u001b[0m\u001b[0;34m\u001b[0m\u001b[0m\n\u001b[1;32m     95\u001b[0m     \u001b[0mobs\u001b[0m\u001b[0;34m,\u001b[0m \u001b[0mreward\u001b[0m\u001b[0;34m,\u001b[0m \u001b[0mdone\u001b[0m\u001b[0;34m,\u001b[0m \u001b[0minfo\u001b[0m \u001b[0;34m=\u001b[0m \u001b[0menv\u001b[0m\u001b[0;34m.\u001b[0m\u001b[0mstep\u001b[0m\u001b[0;34m(\u001b[0m\u001b[0maction\u001b[0m\u001b[0;34m)\u001b[0m\u001b[0;34m\u001b[0m\u001b[0;34m\u001b[0m\u001b[0m\n",
            "\u001b[0;32m/usr/local/lib/python3.7/dist-packages/ray/rllib/agents/trainer.py\u001b[0m in \u001b[0;36mcompute_single_action\u001b[0;34m(self, observation, state, prev_action, prev_reward, info, input_dict, policy_id, full_fetch, explore, timestep, episode, unsquash_action, clip_action, unsquash_actions, clip_actions, **kwargs)\u001b[0m\n\u001b[1;32m   1630\u001b[0m                 \u001b[0mexplore\u001b[0m\u001b[0;34m=\u001b[0m\u001b[0mexplore\u001b[0m\u001b[0;34m,\u001b[0m\u001b[0;34m\u001b[0m\u001b[0;34m\u001b[0m\u001b[0m\n\u001b[1;32m   1631\u001b[0m                 \u001b[0mtimestep\u001b[0m\u001b[0;34m=\u001b[0m\u001b[0mtimestep\u001b[0m\u001b[0;34m,\u001b[0m\u001b[0;34m\u001b[0m\u001b[0;34m\u001b[0m\u001b[0m\n\u001b[0;32m-> 1632\u001b[0;31m                 \u001b[0mepisode\u001b[0m\u001b[0;34m=\u001b[0m\u001b[0mepisode\u001b[0m\u001b[0;34m,\u001b[0m\u001b[0;34m\u001b[0m\u001b[0;34m\u001b[0m\u001b[0m\n\u001b[0m\u001b[1;32m   1633\u001b[0m             )\n\u001b[1;32m   1634\u001b[0m \u001b[0;34m\u001b[0m\u001b[0m\n",
            "\u001b[0;32m/usr/local/lib/python3.7/dist-packages/ray/rllib/policy/policy.py\u001b[0m in \u001b[0;36mcompute_single_action\u001b[0;34m(self, obs, state, prev_action, prev_reward, info, input_dict, episode, explore, timestep, **kwargs)\u001b[0m\n\u001b[1;32m    257\u001b[0m             \u001b[0mepisodes\u001b[0m\u001b[0;34m=\u001b[0m\u001b[0mepisodes\u001b[0m\u001b[0;34m,\u001b[0m\u001b[0;34m\u001b[0m\u001b[0;34m\u001b[0m\u001b[0m\n\u001b[1;32m    258\u001b[0m             \u001b[0mexplore\u001b[0m\u001b[0;34m=\u001b[0m\u001b[0mexplore\u001b[0m\u001b[0;34m,\u001b[0m\u001b[0;34m\u001b[0m\u001b[0;34m\u001b[0m\u001b[0m\n\u001b[0;32m--> 259\u001b[0;31m             \u001b[0mtimestep\u001b[0m\u001b[0;34m=\u001b[0m\u001b[0mtimestep\u001b[0m\u001b[0;34m,\u001b[0m\u001b[0;34m\u001b[0m\u001b[0;34m\u001b[0m\u001b[0m\n\u001b[0m\u001b[1;32m    260\u001b[0m         )\n\u001b[1;32m    261\u001b[0m \u001b[0;34m\u001b[0m\u001b[0m\n",
            "\u001b[0;32m/usr/local/lib/python3.7/dist-packages/ray/rllib/policy/tf_policy.py\u001b[0m in \u001b[0;36mcompute_actions_from_input_dict\u001b[0;34m(self, input_dict, explore, timestep, episodes, **kwargs)\u001b[0m\n\u001b[1;32m    321\u001b[0m \u001b[0;34m\u001b[0m\u001b[0m\n\u001b[1;32m    322\u001b[0m         \u001b[0;31m# Execute session run to get action (and other fetches).\u001b[0m\u001b[0;34m\u001b[0m\u001b[0;34m\u001b[0m\u001b[0;34m\u001b[0m\u001b[0m\n\u001b[0;32m--> 323\u001b[0;31m         \u001b[0mfetched\u001b[0m \u001b[0;34m=\u001b[0m \u001b[0mbuilder\u001b[0m\u001b[0;34m.\u001b[0m\u001b[0mget\u001b[0m\u001b[0;34m(\u001b[0m\u001b[0mto_fetch\u001b[0m\u001b[0;34m)\u001b[0m\u001b[0;34m\u001b[0m\u001b[0;34m\u001b[0m\u001b[0m\n\u001b[0m\u001b[1;32m    324\u001b[0m \u001b[0;34m\u001b[0m\u001b[0m\n\u001b[1;32m    325\u001b[0m         \u001b[0;31m# Update our global timestep by the batch size.\u001b[0m\u001b[0;34m\u001b[0m\u001b[0;34m\u001b[0m\u001b[0;34m\u001b[0m\u001b[0m\n",
            "\u001b[0;32m/usr/local/lib/python3.7/dist-packages/ray/rllib/utils/tf_run_builder.py\u001b[0m in \u001b[0;36mget\u001b[0;34m(self, to_fetch)\u001b[0m\n\u001b[1;32m     53\u001b[0m                     )\n\u001b[1;32m     54\u001b[0m                 )\n\u001b[0;32m---> 55\u001b[0;31m                 \u001b[0;32mraise\u001b[0m \u001b[0me\u001b[0m\u001b[0;34m\u001b[0m\u001b[0;34m\u001b[0m\u001b[0m\n\u001b[0m\u001b[1;32m     56\u001b[0m         \u001b[0;32mif\u001b[0m \u001b[0misinstance\u001b[0m\u001b[0;34m(\u001b[0m\u001b[0mto_fetch\u001b[0m\u001b[0;34m,\u001b[0m \u001b[0mint\u001b[0m\u001b[0;34m)\u001b[0m\u001b[0;34m:\u001b[0m\u001b[0;34m\u001b[0m\u001b[0;34m\u001b[0m\u001b[0m\n\u001b[1;32m     57\u001b[0m             \u001b[0;32mreturn\u001b[0m \u001b[0mself\u001b[0m\u001b[0;34m.\u001b[0m\u001b[0m_executed\u001b[0m\u001b[0;34m[\u001b[0m\u001b[0mto_fetch\u001b[0m\u001b[0;34m]\u001b[0m\u001b[0;34m\u001b[0m\u001b[0;34m\u001b[0m\u001b[0m\n",
            "\u001b[0;32m/usr/local/lib/python3.7/dist-packages/ray/rllib/utils/tf_run_builder.py\u001b[0m in \u001b[0;36mget\u001b[0;34m(self, to_fetch)\u001b[0m\n\u001b[1;32m     45\u001b[0m                     \u001b[0mself\u001b[0m\u001b[0;34m.\u001b[0m\u001b[0mdebug_name\u001b[0m\u001b[0;34m,\u001b[0m\u001b[0;34m\u001b[0m\u001b[0;34m\u001b[0m\u001b[0m\n\u001b[1;32m     46\u001b[0m                     \u001b[0mself\u001b[0m\u001b[0;34m.\u001b[0m\u001b[0mfeed_dict\u001b[0m\u001b[0;34m,\u001b[0m\u001b[0;34m\u001b[0m\u001b[0;34m\u001b[0m\u001b[0m\n\u001b[0;32m---> 47\u001b[0;31m                     \u001b[0mos\u001b[0m\u001b[0;34m.\u001b[0m\u001b[0menviron\u001b[0m\u001b[0;34m.\u001b[0m\u001b[0mget\u001b[0m\u001b[0;34m(\u001b[0m\u001b[0;34m\"TF_TIMELINE_DIR\"\u001b[0m\u001b[0;34m)\u001b[0m\u001b[0;34m,\u001b[0m\u001b[0;34m\u001b[0m\u001b[0;34m\u001b[0m\u001b[0m\n\u001b[0m\u001b[1;32m     48\u001b[0m                 )\n\u001b[1;32m     49\u001b[0m             \u001b[0;32mexcept\u001b[0m \u001b[0mException\u001b[0m \u001b[0;32mas\u001b[0m \u001b[0me\u001b[0m\u001b[0;34m:\u001b[0m\u001b[0;34m\u001b[0m\u001b[0;34m\u001b[0m\u001b[0m\n",
            "\u001b[0;32m/usr/local/lib/python3.7/dist-packages/ray/rllib/utils/tf_run_builder.py\u001b[0m in \u001b[0;36mrun_timeline\u001b[0;34m(sess, ops, debug_name, feed_dict, timeline_dir)\u001b[0m\n\u001b[1;32m    100\u001b[0m                 \u001b[0;34m\"to disk, set the TF_TIMELINE_DIR environment variable.\"\u001b[0m\u001b[0;34m\u001b[0m\u001b[0;34m\u001b[0m\u001b[0m\n\u001b[1;32m    101\u001b[0m             )\n\u001b[0;32m--> 102\u001b[0;31m         \u001b[0mfetches\u001b[0m \u001b[0;34m=\u001b[0m \u001b[0msess\u001b[0m\u001b[0;34m.\u001b[0m\u001b[0mrun\u001b[0m\u001b[0;34m(\u001b[0m\u001b[0mops\u001b[0m\u001b[0;34m,\u001b[0m \u001b[0mfeed_dict\u001b[0m\u001b[0;34m=\u001b[0m\u001b[0mfeed_dict\u001b[0m\u001b[0;34m)\u001b[0m\u001b[0;34m\u001b[0m\u001b[0;34m\u001b[0m\u001b[0m\n\u001b[0m\u001b[1;32m    103\u001b[0m     \u001b[0;32mreturn\u001b[0m \u001b[0mfetches\u001b[0m\u001b[0;34m\u001b[0m\u001b[0;34m\u001b[0m\u001b[0m\n",
            "\u001b[0;32m/usr/local/lib/python3.7/dist-packages/tensorflow/python/client/session.py\u001b[0m in \u001b[0;36mrun\u001b[0;34m(self, fetches, feed_dict, options, run_metadata)\u001b[0m\n\u001b[1;32m    966\u001b[0m     \u001b[0;32mtry\u001b[0m\u001b[0;34m:\u001b[0m\u001b[0;34m\u001b[0m\u001b[0;34m\u001b[0m\u001b[0m\n\u001b[1;32m    967\u001b[0m       result = self._run(None, fetches, feed_dict, options_ptr,\n\u001b[0;32m--> 968\u001b[0;31m                          run_metadata_ptr)\n\u001b[0m\u001b[1;32m    969\u001b[0m       \u001b[0;32mif\u001b[0m \u001b[0mrun_metadata\u001b[0m\u001b[0;34m:\u001b[0m\u001b[0;34m\u001b[0m\u001b[0;34m\u001b[0m\u001b[0m\n\u001b[1;32m    970\u001b[0m         \u001b[0mproto_data\u001b[0m \u001b[0;34m=\u001b[0m \u001b[0mtf_session\u001b[0m\u001b[0;34m.\u001b[0m\u001b[0mTF_GetBuffer\u001b[0m\u001b[0;34m(\u001b[0m\u001b[0mrun_metadata_ptr\u001b[0m\u001b[0;34m)\u001b[0m\u001b[0;34m\u001b[0m\u001b[0;34m\u001b[0m\u001b[0m\n",
            "\u001b[0;32m/usr/local/lib/python3.7/dist-packages/tensorflow/python/client/session.py\u001b[0m in \u001b[0;36m_run\u001b[0;34m(self, handle, fetches, feed_dict, options, run_metadata)\u001b[0m\n\u001b[1;32m   1163\u001b[0m               not subfeed_t.get_shape().is_compatible_with(np_val.shape)):\n\u001b[1;32m   1164\u001b[0m             raise ValueError(\n\u001b[0;32m-> 1165\u001b[0;31m                 \u001b[0;34mf'Cannot feed value of shape {str(np_val.shape)} for Tensor '\u001b[0m\u001b[0;34m\u001b[0m\u001b[0;34m\u001b[0m\u001b[0m\n\u001b[0m\u001b[1;32m   1166\u001b[0m                 \u001b[0;34mf'{subfeed_t.name}, which has shape '\u001b[0m\u001b[0;34m\u001b[0m\u001b[0;34m\u001b[0m\u001b[0m\n\u001b[1;32m   1167\u001b[0m                 f'{str(subfeed_t.get_shape())}')\n",
            "\u001b[0;31mValueError\u001b[0m: Cannot feed value of shape (1,) for Tensor default_policy/prev_actions:0, which has shape (?, 1)"
          ]
        }
      ]
    },
    {
      "cell_type": "code",
      "source": [
        "ray.shutdown()"
      ],
      "metadata": {
        "id": "RF7cbWAkKmQU"
      },
      "execution_count": null,
      "outputs": []
    }
  ]
}